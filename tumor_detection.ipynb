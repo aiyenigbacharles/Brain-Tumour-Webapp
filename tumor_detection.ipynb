{
 "cells": [
  {
   "cell_type": "markdown",
   "metadata": {},
   "source": [
    "We begin by importing the necessary libraries and modules for our project"
   ]
  },
  {
   "cell_type": "code",
   "execution_count": 1,
   "metadata": {},
   "outputs": [],
   "source": [
    "import os\n",
    "import torch\n",
    "import torch.nn as nn\n",
    "import torch.optim as optim\n",
    "from torch.utils.data import DataLoader\n",
    "from torchvision import transforms, datasets\n",
    "import matplotlib.pyplot as plt"
   ]
  },
  {
   "cell_type": "markdown",
   "metadata": {},
   "source": [
    "Below we set the device (either GPU or CPU) will be used for computations in PyTorch"
   ]
  },
  {
   "cell_type": "code",
   "execution_count": 2,
   "metadata": {},
   "outputs": [],
   "source": [
    "# Set device\n",
    "device = torch.device('cuda' if torch.cuda.is_available() else 'cpu')"
   ]
  },
  {
   "cell_type": "code",
   "execution_count": 10,
   "metadata": {},
   "outputs": [],
   "source": [
    "# # Define data transforms\n",
    "# data_transforms = {\n",
    "#     'C:/Users/USER/Desktop/Ezekiel 3/brain-tumor-detection/train': transforms.Compose([\n",
    "#         transforms.Resize((224, 224)),\n",
    "#         transforms.RandomHorizontalFlip(),\n",
    "#         transforms.ToTensor(),\n",
    "#         transforms.Normalize([0.485, 0.456, 0.406], [0.229, 0.224, 0.225])\n",
    "#     ]),\n",
    "#     'C:/Users/USER/Desktop/Ezekiel 3/brain-tumor-detection/val': transforms.Compose([\n",
    "#         transforms.Resize((224, 224)),\n",
    "#         transforms.ToTensor(),\n",
    "#         transforms.Normalize([0.485, 0.456, 0.406], [0.229, 0.224, 0.225])\n",
    "#     ])\n",
    "# }\n",
    "\n",
    "# # Load the datasets\n",
    "# data_dir = 'C:/Users/USER/Desktop/Ezekiel 3/brain-tumor-detection/my dataset'\n",
    "# image_datasets = {x: datasets.ImageFolder(os.path.join(data_dir, x), data_transforms[x]) for x in ['train', 'val']}"
   ]
  },
  {
   "cell_type": "markdown",
   "metadata": {},
   "source": [
    "This code below prepares the data transformations and loads the training and validation datasets from the specified directory, applying the appropriate transformations to each set. \n",
    "\n",
    "- import the datasets module from the torchvision library, which provides access to popular datasets like ImageNet, CIFAR, and others.\n",
    "\n",
    "- define the transformations to be applied to the training and validation datasets. The transforms.Compose function combines multiple transformations into a single operation.\n",
    "\n",
    "- transforms.Resize((224, 224)) resizes the images to 224x224 pixels.\n",
    "transforms.RandomHorizontalFlip() randomly flips the images horizontally for data augmentation.\n",
    "transforms.ToTensor() converts the PIL images to PyTorch tensors.\n",
    "transforms.Normalize normalizes the tensor images with mean and standard deviation values typical for ImageNet."
   ]
  },
  {
   "cell_type": "code",
   "execution_count": 3,
   "metadata": {},
   "outputs": [],
   "source": [
    "from torchvision import datasets\n",
    "\n",
    "# Define data transforms\n",
    "data_transforms = {\n",
    "    'train': transforms.Compose([\n",
    "        transforms.Resize((224, 224)),\n",
    "        transforms.RandomHorizontalFlip(),\n",
    "        transforms.ToTensor(),\n",
    "        transforms.Normalize([0.485, 0.456, 0.406], [0.229, 0.224, 0.225])\n",
    "    ]),\n",
    "    'val': transforms.Compose([\n",
    "        transforms.Resize((224, 224)),\n",
    "        transforms.ToTensor(),\n",
    "        transforms.Normalize([0.485, 0.456, 0.406], [0.229, 0.224, 0.225])\n",
    "    ])\n",
    "}\n",
    "\n",
    "# Load the datasets\n",
    "data_dir = 'C:/Users/USER/Desktop/Ezekiel 3/brain-tumor-detection/my dataset'\n",
    "image_datasets = {x: datasets.ImageFolder(os.path.join(data_dir, x), data_transforms[x]) for x in ['train', 'val']}\n"
   ]
  },
  {
   "cell_type": "markdown",
   "metadata": {},
   "source": [
    "PyTorch's DataLoader is used to create data loaders for both the training and validation datasets. The DataLoader handles batching the data, shuffling the training data, and provides an efficient way to iterate over the data during training and evaluation.PyTorch's DataLoader is used to create data loaders for both the training and validation datasets. The DataLoader handles batching the data, shuffling the training data, and provides an efficient way to iterate over the data during training and evaluation."
   ]
  },
  {
   "cell_type": "code",
   "execution_count": 4,
   "metadata": {},
   "outputs": [],
   "source": [
    "# Create data loaders\n",
    "dataloaders = {x: DataLoader(image_datasets[x], batch_size=16, shuffle=True) for x in ['train', 'val']}"
   ]
  },
  {
   "cell_type": "markdown",
   "metadata": {},
   "source": [
    "The neural network architecture below is a basic convolutional neural network (CNN) with two convolutional layers, two max pooling layers, and two fully connected layers. The input to the network is expected to be a 3-channel image (likely RGB), and the output is a tensor of size 2, representing the predicted probabilities for the two classes (tumor or non-tumor)."
   ]
  },
  {
   "cell_type": "code",
   "execution_count": 5,
   "metadata": {},
   "outputs": [],
   "source": [
    "# Define the CNN Model\n",
    "class BrainTumorDetector(nn.Module):\n",
    "    def __init__(self):\n",
    "        super(BrainTumorDetector, self).__init__()\n",
    "        self.conv1 = nn.Conv2d(3, 32, kernel_size=3, padding=1)\n",
    "        self.conv2 = nn.Conv2d(32, 64, kernel_size=3, padding=1)\n",
    "        self.pool = nn.MaxPool2d(2, 2)\n",
    "        self.fc1 = nn.Linear(64 * 56 * 56, 128)\n",
    "        self.fc2 = nn.Linear(128, 2)\n",
    "        self.relu = nn.ReLU()\n",
    "\n",
    "    def forward(self, x):\n",
    "        out = self.relu(self.conv1(x))\n",
    "        out = self.pool(out)\n",
    "        out = self.relu(self.conv2(out))\n",
    "        out = self.pool(out)\n",
    "        out = out.view(-1, 64 * 56 * 56)\n",
    "        out = self.relu(self.fc1(out))\n",
    "        out = self.fc2(out)\n",
    "        return out"
   ]
  },
  {
   "cell_type": "markdown",
   "metadata": {},
   "source": [
    "- BrainTumorDetector() creates a new instance of the BrainTumorDetector class, which is the convolutional neural network model defined earlier for brain tumor detection.\n",
    "\n",
    "- .to(device) moves the newly created model instance to the device specified by the device variable. Recall that device was set earlier to either 'cuda' (GPU) or 'cpu' (CPU), depending on the availability of a CUDA-enabled GPU."
   ]
  },
  {
   "cell_type": "code",
   "execution_count": 6,
   "metadata": {},
   "outputs": [],
   "source": [
    "# Initialize the model\n",
    "model = BrainTumorDetector().to(device)"
   ]
  },
  {
   "cell_type": "markdown",
   "metadata": {},
   "source": [
    "These two lines of code below define the loss function and the optimizer for training the neural network model."
   ]
  },
  {
   "cell_type": "code",
   "execution_count": 7,
   "metadata": {},
   "outputs": [],
   "source": [
    "# Define the loss function and optimizer\n",
    "criterion = nn.CrossEntropyLoss()\n",
    "optimizer = optim.SGD(model.parameters(), lr=0.001, momentum=0.9)"
   ]
  },
  {
   "cell_type": "markdown",
   "metadata": {},
   "source": [
    "This code below defines the function train_model that handles the training and validation of the neural network model over multiple epochs. Here's a Breakdown:\n",
    "\n",
    "\n",
    "- The function takes four arguments: model (the model to be trained), criterion (the loss function), optimizer (the optimization algorithm), and num_epochs (the number of epochs to train for, default is 25).\n",
    "\n",
    "- It initializes four empty lists: train_loss_history, val_loss_history, train_acc_history, and val_acc_history. These lists will store the training loss, validation loss, training accuracy, and validation accuracy, respectively, for each epoch.\n",
    "\n",
    "- It starts a loop over the specified number of epochs (num_epochs).\n",
    "\n",
    "- Inside the loop, it resets the training loss, validation loss, training accuracy, and validation accuracy to 0 for each epoch.\n",
    "\n",
    "- It sets the model to training mode using model.train().\n",
    "\n",
    "- It iterates over the training data loader (dataloaders['train']) and performs the following steps for each batch of data:\n",
    "\n",
    "Move the input data (inputs) and labels (labels) to the specified device (device).\n",
    "Reset the gradients to zero using optimizer.zero_grad().\n",
    "Perform a forward pass through the model to obtain the output (outputs = model(inputs)).\n",
    "Calculate the loss using the loss function (loss = criterion(outputs, labels)).\n",
    "Perform backpropagation to compute the gradients (loss.backward()).\n",
    "Update the model's parameters using the optimizer (optimizer.step()).\n",
    "Update the training loss and training accuracy for the current batch.\n",
    "\n",
    "\n",
    "- It sets the model to evaluation mode using model.eval().\n",
    "\n",
    "- It iterates over the validation data loader (dataloaders['val']) and performs the following steps for each batch of data:\n",
    "\n",
    "Move the input data (inputs) and labels (labels) to the specified device (device).\n",
    "Perform a forward pass through the model to obtain the output (outputs = model(inputs)).\n",
    "Calculate the loss using the loss function (loss = criterion(outputs, labels)).\n",
    "Update the validation loss and validation accuracy for the current batch.\n",
    "\n",
    "\n",
    "It calculates the average training loss, validation loss, training accuracy, and validation accuracy for the entire epoch by dividing the accumulated values by the respective dataset lengths.\n",
    "It appends the average training loss, validation loss, training accuracy, and validation accuracy to their respective history lists.\n",
    "\n",
    "- It appends the average training loss, validation loss, training accuracy, and validation accuracy to their respective history lists.\n",
    "\n",
    "- It prints the current epoch number, training loss, validation loss, training accuracy, and validation accuracy.\n",
    "\n",
    "- After the training loop is completed, the function returns the lists containing the training loss history, validation loss history, training accuracy history, and validation accuracy history."
   ]
  },
  {
   "cell_type": "code",
   "execution_count": 31,
   "metadata": {},
   "outputs": [],
   "source": [
    "# Training and validation functions\n",
    "def train_model(model, criterion, optimizer, num_epochs=25):\n",
    "    train_loss_history = []\n",
    "    val_loss_history = []\n",
    "    train_acc_history = []\n",
    "    val_acc_history = []\n",
    "\n",
    "    for epoch in range(num_epochs):\n",
    "        train_loss = 0.0\n",
    "        val_loss = 0.0\n",
    "        train_acc = 0.0\n",
    "        val_acc = 0.0\n",
    "\n",
    "        # Training loop\n",
    "        model.train()\n",
    "        for inputs, labels in dataloaders['train']:\n",
    "            inputs, labels = inputs.to(device), labels.to(device)\n",
    "            optimizer.zero_grad()\n",
    "            outputs = model(inputs)\n",
    "            loss = criterion(outputs, labels)\n",
    "            loss.backward()\n",
    "            optimizer.step()\n",
    "            train_loss += loss.item() * inputs.size(0)\n",
    "            _, preds = torch.max(outputs, 1)\n",
    "            train_acc += torch.sum(preds == labels.data)\n",
    "\n",
    "        # Validation loop\n",
    "        model.eval()\n",
    "        for inputs, labels in dataloaders['val']:\n",
    "            inputs, labels = inputs.to(device), labels.to(device)\n",
    "            outputs = model(inputs)\n",
    "            loss = criterion(outputs, labels)\n",
    "            val_loss += loss.item() * inputs.size(0)\n",
    "            _, preds = torch.max(outputs, 1)\n",
    "            val_acc += torch.sum(preds == labels.data)\n",
    "\n",
    "        train_loss /= len(dataloaders['train'].dataset)\n",
    "        val_loss /= len(dataloaders['val'].dataset)\n",
    "        train_acc /= len(dataloaders['train'].dataset)\n",
    "        val_acc /= len(dataloaders['val'].dataset)\n",
    "\n",
    "        train_loss_history.append(train_loss)\n",
    "        val_loss_history.append(val_loss)\n",
    "        train_acc_history.append(train_acc)\n",
    "        val_acc_history.append(val_acc)\n",
    "\n",
    "        print(f'Epoch [{epoch+1}/{num_epochs}], Train Loss: {train_loss:.4f}, Val Loss: {val_loss:.4f}, Train Acc: {train_acc:.4f}, Val Acc: {val_acc:.4f}')\n",
    "\n",
    "    return train_loss_history, val_loss_history, train_acc_history, val_acc_history"
   ]
  },
  {
   "cell_type": "markdown",
   "metadata": {},
   "source": [
    "The Code below does the following:\n",
    "\n",
    "- num_epochs = 20 sets the number of epochs for training to 20. An epoch is one complete pass through the entire training dataset.\n",
    "The train_model function (defined earlier) is called with the following arguments:\n",
    "\n",
    "- model: The instance of the BrainTumorDetector model that was initialized earlier.\n",
    "criterion: The loss function (cross-entropy loss) that was defined earlier.\n",
    "optimizer: The optimizer (SGD with momentum) that was defined earlier.\n",
    "num_epochs: The number of epochs to train for (20 in this case).\n",
    "\n",
    "\n",
    "- The train_model function performs the training and validation of the model over the specified number of epochs (num_epochs). It iterates over the training and validation data loaders, computes the loss, updates the model parameters using the optimizer, and keeps track of the training and validation metrics (loss and accuracy) for each epoch.\n",
    "\n",
    "- The train_model function returns four lists: train_loss_history, val_loss_history, train_acc_history, and val_acc_history. These lists contain the training loss, validation loss, training accuracy, and validation accuracy, respectively, for each epoch.\n",
    "\n",
    "- The returned lists are unpacked and assigned to the corresponding variables: train_loss_history, val_loss_history, train_acc_history, and val_acc_history."
   ]
  },
  {
   "cell_type": "code",
   "execution_count": 32,
   "metadata": {},
   "outputs": [
    {
     "ename": "KeyboardInterrupt",
     "evalue": "",
     "output_type": "error",
     "traceback": [
      "\u001b[1;31m---------------------------------------------------------------------------\u001b[0m",
      "\u001b[1;31mKeyboardInterrupt\u001b[0m                         Traceback (most recent call last)",
      "Input \u001b[1;32mIn [32]\u001b[0m, in \u001b[0;36m<cell line: 3>\u001b[1;34m()\u001b[0m\n\u001b[0;32m      1\u001b[0m \u001b[38;5;66;03m# Train the model\u001b[39;00m\n\u001b[0;32m      2\u001b[0m num_epochs \u001b[38;5;241m=\u001b[39m \u001b[38;5;241m20\u001b[39m\n\u001b[1;32m----> 3\u001b[0m train_loss_history, val_loss_history, train_acc_history, val_acc_history \u001b[38;5;241m=\u001b[39m \u001b[43mtrain_model\u001b[49m\u001b[43m(\u001b[49m\u001b[43mmodel\u001b[49m\u001b[43m,\u001b[49m\u001b[43m \u001b[49m\u001b[43mcriterion\u001b[49m\u001b[43m,\u001b[49m\u001b[43m \u001b[49m\u001b[43moptimizer\u001b[49m\u001b[43m,\u001b[49m\u001b[43m \u001b[49m\u001b[43mnum_epochs\u001b[49m\u001b[43m)\u001b[49m\n",
      "Input \u001b[1;32mIn [31]\u001b[0m, in \u001b[0;36mtrain_model\u001b[1;34m(model, criterion, optimizer, num_epochs)\u001b[0m\n\u001b[0;32m     19\u001b[0m outputs \u001b[38;5;241m=\u001b[39m model(inputs)\n\u001b[0;32m     20\u001b[0m loss \u001b[38;5;241m=\u001b[39m criterion(outputs, labels)\n\u001b[1;32m---> 21\u001b[0m \u001b[43mloss\u001b[49m\u001b[38;5;241;43m.\u001b[39;49m\u001b[43mbackward\u001b[49m\u001b[43m(\u001b[49m\u001b[43m)\u001b[49m\n\u001b[0;32m     22\u001b[0m optimizer\u001b[38;5;241m.\u001b[39mstep()\n\u001b[0;32m     23\u001b[0m train_loss \u001b[38;5;241m+\u001b[39m\u001b[38;5;241m=\u001b[39m loss\u001b[38;5;241m.\u001b[39mitem() \u001b[38;5;241m*\u001b[39m inputs\u001b[38;5;241m.\u001b[39msize(\u001b[38;5;241m0\u001b[39m)\n",
      "File \u001b[1;32mc:\\Users\\USER\\AppData\\Local\\Programs\\Python\\Python310\\lib\\site-packages\\torch\\_tensor.py:487\u001b[0m, in \u001b[0;36mTensor.backward\u001b[1;34m(self, gradient, retain_graph, create_graph, inputs)\u001b[0m\n\u001b[0;32m    477\u001b[0m \u001b[38;5;28;01mif\u001b[39;00m has_torch_function_unary(\u001b[38;5;28mself\u001b[39m):\n\u001b[0;32m    478\u001b[0m     \u001b[38;5;28;01mreturn\u001b[39;00m handle_torch_function(\n\u001b[0;32m    479\u001b[0m         Tensor\u001b[38;5;241m.\u001b[39mbackward,\n\u001b[0;32m    480\u001b[0m         (\u001b[38;5;28mself\u001b[39m,),\n\u001b[1;32m   (...)\u001b[0m\n\u001b[0;32m    485\u001b[0m         inputs\u001b[38;5;241m=\u001b[39minputs,\n\u001b[0;32m    486\u001b[0m     )\n\u001b[1;32m--> 487\u001b[0m \u001b[43mtorch\u001b[49m\u001b[38;5;241;43m.\u001b[39;49m\u001b[43mautograd\u001b[49m\u001b[38;5;241;43m.\u001b[39;49m\u001b[43mbackward\u001b[49m\u001b[43m(\u001b[49m\n\u001b[0;32m    488\u001b[0m \u001b[43m    \u001b[49m\u001b[38;5;28;43mself\u001b[39;49m\u001b[43m,\u001b[49m\u001b[43m \u001b[49m\u001b[43mgradient\u001b[49m\u001b[43m,\u001b[49m\u001b[43m \u001b[49m\u001b[43mretain_graph\u001b[49m\u001b[43m,\u001b[49m\u001b[43m \u001b[49m\u001b[43mcreate_graph\u001b[49m\u001b[43m,\u001b[49m\u001b[43m \u001b[49m\u001b[43minputs\u001b[49m\u001b[38;5;241;43m=\u001b[39;49m\u001b[43minputs\u001b[49m\n\u001b[0;32m    489\u001b[0m \u001b[43m\u001b[49m\u001b[43m)\u001b[49m\n",
      "File \u001b[1;32mc:\\Users\\USER\\AppData\\Local\\Programs\\Python\\Python310\\lib\\site-packages\\torch\\autograd\\__init__.py:200\u001b[0m, in \u001b[0;36mbackward\u001b[1;34m(tensors, grad_tensors, retain_graph, create_graph, grad_variables, inputs)\u001b[0m\n\u001b[0;32m    195\u001b[0m     retain_graph \u001b[38;5;241m=\u001b[39m create_graph\n\u001b[0;32m    197\u001b[0m \u001b[38;5;66;03m# The reason we repeat same the comment below is that\u001b[39;00m\n\u001b[0;32m    198\u001b[0m \u001b[38;5;66;03m# some Python versions print out the first line of a multi-line function\u001b[39;00m\n\u001b[0;32m    199\u001b[0m \u001b[38;5;66;03m# calls in the traceback and some print out the last line\u001b[39;00m\n\u001b[1;32m--> 200\u001b[0m \u001b[43mVariable\u001b[49m\u001b[38;5;241;43m.\u001b[39;49m\u001b[43m_execution_engine\u001b[49m\u001b[38;5;241;43m.\u001b[39;49m\u001b[43mrun_backward\u001b[49m\u001b[43m(\u001b[49m\u001b[43m  \u001b[49m\u001b[38;5;66;43;03m# Calls into the C++ engine to run the backward pass\u001b[39;49;00m\n\u001b[0;32m    201\u001b[0m \u001b[43m    \u001b[49m\u001b[43mtensors\u001b[49m\u001b[43m,\u001b[49m\u001b[43m \u001b[49m\u001b[43mgrad_tensors_\u001b[49m\u001b[43m,\u001b[49m\u001b[43m \u001b[49m\u001b[43mretain_graph\u001b[49m\u001b[43m,\u001b[49m\u001b[43m \u001b[49m\u001b[43mcreate_graph\u001b[49m\u001b[43m,\u001b[49m\u001b[43m \u001b[49m\u001b[43minputs\u001b[49m\u001b[43m,\u001b[49m\n\u001b[0;32m    202\u001b[0m \u001b[43m    \u001b[49m\u001b[43mallow_unreachable\u001b[49m\u001b[38;5;241;43m=\u001b[39;49m\u001b[38;5;28;43;01mTrue\u001b[39;49;00m\u001b[43m,\u001b[49m\u001b[43m \u001b[49m\u001b[43maccumulate_grad\u001b[49m\u001b[38;5;241;43m=\u001b[39;49m\u001b[38;5;28;43;01mTrue\u001b[39;49;00m\u001b[43m)\u001b[49m\n",
      "\u001b[1;31mKeyboardInterrupt\u001b[0m: "
     ]
    }
   ],
   "source": [
    "# Train the model\n",
    "num_epochs = 20\n",
    "train_loss_history, val_loss_history, train_acc_history, val_acc_history = train_model(model, criterion, optimizer, num_epochs)"
   ]
  },
  {
   "cell_type": "markdown",
   "metadata": {},
   "source": [
    "This code below creates a line plot with two lines: one representing the training loss over epochs (in blue), and the other representing the validation loss over epochs (in orange). The x-axis shows the epoch numbers, and the y-axis shows the corresponding loss values."
   ]
  },
  {
   "cell_type": "code",
   "execution_count": null,
   "metadata": {},
   "outputs": [
    {
     "data": {
      "text/plain": [
       "<matplotlib.legend.Legend at 0x2338ce7a830>"
      ]
     },
     "execution_count": 13,
     "metadata": {},
     "output_type": "execute_result"
    },
    {
     "data": {
      "image/png": "[encoded data removed]",
      "text/plain": [
       "<Figure size 1500x700 with 1 Axes>"
      ]
     },
     "metadata": {},
     "output_type": "display_data"
    }
   ],
   "source": [
    "# Plot the training and validation curves\n",
    "plt.figure(figsize=(15, 7))\n",
    "plt.subplot(1, 2, 1)\n",
    "plt.plot(range(num_epochs), train_loss_history, label='Train Loss')\n",
    "plt.plot(range(num_epochs), val_loss_history, label='Val Loss')\n",
    "plt.title('Loss Curves')\n",
    "plt.xlabel('Epochs')\n",
    "plt.ylabel('Loss')\n",
    "plt.legend()"
   ]
  },
  {
   "cell_type": "markdown",
   "metadata": {},
   "source": [
    "- In the above Graph, the training loss is consistently lower than the validation loss throughout the epochs, which is a good sign and suggests that the model is learning from the training data.\n",
    "\n",
    "- Both the training loss and validation loss are decreasing throughout the epochs. This is a positive sign, as it indicates that the model is learning."
   ]
  },
  {
   "cell_type": "markdown",
   "metadata": {},
   "source": [
    "This code below creates a line plot with two lines: one representing the training accuracy over epochs (in blue), and the other representing the validation accuracy over epochs (in orange). The x-axis shows the epoch numbers, and the y-axis shows the corresponding accuracy values."
   ]
  },
  {
   "cell_type": "code",
   "execution_count": 16,
   "metadata": {},
   "outputs": [
    {
     "data": {
      "image/png": "[encoded data removed]",
      "text/plain": [
       "<Figure size 1500x700 with 1 Axes>"
      ]
     },
     "metadata": {},
     "output_type": "display_data"
    }
   ],
   "source": [
    "plt.figure(figsize=(15, 7))\n",
    "plt.subplot(1, 2, 2)\n",
    "plt.plot(range(num_epochs), train_acc_history, label='Train Acc')\n",
    "plt.plot(range(num_epochs), val_acc_history, label='Val Acc')\n",
    "plt.title('Accuracy Curves')\n",
    "plt.xlabel('Epochs')\n",
    "plt.ylabel('Accuracy')\n",
    "plt.legend()\n",
    "plt.show()"
   ]
  },
  {
   "cell_type": "markdown",
   "metadata": {},
   "source": [
    "- From the above Graph, we can see that the validation accuracy appears to be around 0.85, which is relatively high. This indicates that the model is performing well on unseen data.\n",
    "\n",
    "- The training accuracy is increasing throughout the epochs, which suggests the model is learning from the training data."
   ]
  },
  {
   "cell_type": "markdown",
   "metadata": {},
   "source": [
    "This code below defines the function test_model that evaluates the performance of the trained model on the test dataset"
   ]
  },
  {
   "cell_type": "code",
   "execution_count": 17,
   "metadata": {},
   "outputs": [],
   "source": [
    "# Testing the model\n",
    "def test_model(model, dataloader):\n",
    "    model.eval()\n",
    "    correct = 0\n",
    "    total = 0\n",
    "    with torch.no_grad():\n",
    "        for inputs, labels in dataloader:\n",
    "            inputs, labels = inputs.to(device), labels.to(device)\n",
    "            outputs = model(inputs)\n",
    "            _, preds = torch.max(outputs, 1)\n",
    "            total += labels.size(0)\n",
    "            correct += (preds == labels).sum().item()\n",
    "\n",
    "    accuracy = correct / total\n",
    "    print(f'Test Accuracy: {accuracy:.4f}')"
   ]
  },
  {
   "cell_type": "markdown",
   "metadata": {},
   "source": [
    "This line of code below calls the test_model function to evaluate the performance of the trained model on the validation dataset & displays the accuracy of the trained model"
   ]
  },
  {
   "cell_type": "code",
   "execution_count": 18,
   "metadata": {},
   "outputs": [
    {
     "name": "stdout",
     "output_type": "stream",
     "text": [
      "Test Accuracy: 0.9848\n"
     ]
    }
   ],
   "source": [
    "# Test the model on the validation set\n",
    "test_model(model, dataloaders['val'])"
   ]
  },
  {
   "cell_type": "markdown",
   "metadata": {},
   "source": [
    "This line of code below saves the trained state of the neural network model to the file named \"brain_tumor_detector.h5.\""
   ]
  },
  {
   "cell_type": "code",
   "execution_count": 33,
   "metadata": {},
   "outputs": [
    {
     "name": "stdout",
     "output_type": "stream",
     "text": [
      "Model saved successfully to: brain_tumor_detector.pt\n"
     ]
    }
   ],
   "source": [
    "import torch\n",
    "\n",
    "# Assuming you have your PyTorch model defined in a variable named 'model'\n",
    "\n",
    "def save_pytorch_model(model, save_path):\n",
    "  \"\"\"Saves a PyTorch model to the specified path in the .pt format.\n",
    "\n",
    "  Args:\n",
    "      model (torch.nn.Module): The PyTorch model to save.\n",
    "      save_path (str): The path to save the model state dictionary.\n",
    "  \"\"\"\n",
    "\n",
    "  # Save only the model's state dictionary (parameters and optimizer states)\n",
    "  torch.save(model.state_dict(), save_path)\n",
    "\n",
    "  print(f\"Model saved successfully to: {save_path}\")\n",
    "\n",
    "# Example usage:\n",
    "save_path = \"brain_tumor_detector.pt\"  # Replace with your desired filename\n",
    "save_pytorch_model(model, save_path)"
   ]
  },
  {
   "cell_type": "code",
   "execution_count": 19,
   "metadata": {},
   "outputs": [],
   "source": [
    "# Save the model\n",
    "torch.save(model.state_dict(), 'brain_tumor_detector.h5')"
   ]
  },
  {
   "cell_type": "markdown",
   "metadata": {},
   "source": [
    "This line of Code below loads the model weights and prepares it for making predictions on new data."
   ]
  },
  {
   "cell_type": "code",
   "execution_count": 20,
   "metadata": {},
   "outputs": [
    {
     "data": {
      "text/plain": [
       "BrainTumorDetector(\n",
       "  (conv1): Conv2d(3, 32, kernel_size=(3, 3), stride=(1, 1), padding=(1, 1))\n",
       "  (conv2): Conv2d(32, 64, kernel_size=(3, 3), stride=(1, 1), padding=(1, 1))\n",
       "  (pool): MaxPool2d(kernel_size=2, stride=2, padding=0, dilation=1, ceil_mode=False)\n",
       "  (fc1): Linear(in_features=200704, out_features=128, bias=True)\n",
       "  (fc2): Linear(in_features=128, out_features=2, bias=True)\n",
       "  (relu): ReLU()\n",
       ")"
      ]
     },
     "execution_count": 20,
     "metadata": {},
     "output_type": "execute_result"
    }
   ],
   "source": [
    "# Load the trained model \n",
    "model = BrainTumorDetector().to(device)\n",
    "model.load_state_dict(torch.load('brain_tumor_detector.h5'))\n",
    "model.eval()"
   ]
  },
  {
   "cell_type": "markdown",
   "metadata": {},
   "source": [
    "The Code below prepares the input image for compatibility with the pre-trained model by resizing, converting to the appropriate format (tensor), and normalizing pixel values."
   ]
  },
  {
   "cell_type": "code",
   "execution_count": 25,
   "metadata": {},
   "outputs": [],
   "source": [
    "from PIL import Image\n",
    "from torchvision import transforms\n",
    "\n",
    "\n",
    "\n",
    "# Define the transformation for the input image\n",
    "input_transform = transforms.Compose([\n",
    "    transforms.Resize((224, 224)),\n",
    "    transforms.ToTensor(),\n",
    "    transforms.Normalize([0.485, 0.456, 0.406], [0.229, 0.224, 0.225])\n",
    "])"
   ]
  },
  {
   "cell_type": "markdown",
   "metadata": {},
   "source": [
    "This code below defines a function test_image that takes an image path as input and uses the pre-trained brain tumor detection model to predict whether the image shows a brain tumor or not."
   ]
  },
  {
   "cell_type": "code",
   "execution_count": 30,
   "metadata": {},
   "outputs": [
    {
     "name": "stdout",
     "output_type": "stream",
     "text": [
      "The image 'C:/Users/USER/Desktop/Ezekiel 3/brain-tumor-detection/my dataset/no/47 no.jpg' does not show any brain tumor.\n"
     ]
    }
   ],
   "source": [
    "\n",
    "# Function to test the model on a single image\n",
    "def test_image(image_path):\n",
    "    image = Image.open(image_path).convert('RGB')\n",
    "    input_tensor = input_transform(image).unsqueeze(0).to(device)\n",
    "    \n",
    "    with torch.no_grad():\n",
    "        output = model(input_tensor)\n",
    "        _, pred = torch.max(output, 1)\n",
    "        \n",
    "    if pred.item() == 0:\n",
    "        print(f\"The image '{image_path}' does not show any brain tumor.\")\n",
    "    else:\n",
    "        print(f\"The image '{image_path}' shows a brain tumor.\")\n",
    "\n",
    "# Example usage\n",
    "test_image('C:/Users/USER/Desktop/Ezekiel 3/brain-tumor-detection/my dataset/no/47 no.jpg')"
   ]
  }
 ],
 "metadata": {
  "kernelspec": {
   "display_name": "Python 3",
   "language": "python",
   "name": "python3"
  },
  "language_info": {
   "codemirror_mode": {
    "name": "ipython",
    "version": 3
   },
   "file_extension": ".py",
   "mimetype": "text/x-python",
   "name": "python",
   "nbconvert_exporter": "python",
   "pygments_lexer": "ipython3",
   "version": "3.10.7"
  }
 },
 "nbformat": 4,
 "nbformat_minor": 2
}
